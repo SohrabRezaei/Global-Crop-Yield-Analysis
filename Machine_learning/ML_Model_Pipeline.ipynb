{
 "cells": [
  {
   "cell_type": "code",
   "execution_count": 1,
   "metadata": {},
   "outputs": [],
   "source": [
    "import pandas as pd\n",
    "from sklearn.preprocessing import OneHotEncoder\n",
    "from sklearn.preprocessing import StandardScaler\n",
    "from sklearn.model_selection import train_test_split\n",
    "from sklearn.base import BaseEstimator, TransformerMixin\n",
    "from sklearn.compose import ColumnTransformer\n",
    "from sklearn.pipeline import Pipeline\n",
    "from sklearn.linear_model import LinearRegression\n",
    "from sklearn.metrics import mean_squared_error, r2_score\n",
    "from sklearn.ensemble import RandomForestRegressor, GradientBoostingRegressor\n",
    "from sklearn.neural_network import MLPRegressor\n",
    "from sklearn.tree import DecisionTreeRegressor\n",
    "from sklearn import linear_model\n",
    "from sklearn.model_selection import GridSearchCV\n",
    "import numpy as np\n",
    "import seaborn as sn\n",
    "import pickle\n",
    "import matplotlib.pyplot as plt\n",
    "\n"
   ]
  },
  {
   "cell_type": "code",
   "execution_count": 2,
   "metadata": {},
   "outputs": [],
   "source": [
    "final_data = pd.read_csv(\"join.csv\")"
   ]
  },
  {
   "cell_type": "code",
   "execution_count": 3,
   "metadata": {},
   "outputs": [],
   "source": [
    "features = final_data[\n",
    "    [\n",
    "        \"Country\",\n",
    "        \"Item\",\n",
    "        \"Average Rainfall (mm/year)\",\n",
    "        \"Pesticides (Tonnes)\",\n",
    "        \"Average Temperature\",\n",
    "    ]\n",
    "].copy()\n",
    "\n",
    "\n",
    "response = final_data[\"Yield (hg/ha)\"].copy()\n"
   ]
  },
  {
   "cell_type": "code",
   "execution_count": 4,
   "metadata": {},
   "outputs": [],
   "source": [
    "# main test split\n",
    "X_train, X_test, y_train, y_test = train_test_split(\n",
    "    features,\n",
    "    response,\n",
    "    test_size=0.2,\n",
    "    random_state=42,\n",
    "    stratify=features['Item']\n",
    ")"
   ]
  },
  {
   "cell_type": "code",
   "execution_count": 5,
   "metadata": {},
   "outputs": [],
   "source": [
    "class Country_modifier(BaseEstimator, TransformerMixin):\n",
    "    def _init_(self):\n",
    "        self.country_counts = {}\n",
    "        return\n",
    "\n",
    "    def fit(self, X, y=None):\n",
    "        self.country_counts = dict(X.Country.value_counts())\n",
    "        return self\n",
    "\n",
    "    def transform(self, X, y=None):\n",
    "        X[\"Country\"] = X[\"Country\"].apply(\n",
    "            lambda x: x if self.country_counts[x] >= 200 else \"Other\"\n",
    "        )\n",
    "\n",
    "        return X"
   ]
  },
  {
   "cell_type": "code",
   "execution_count": 6,
   "metadata": {},
   "outputs": [],
   "source": [
    "ct = ColumnTransformer(\n",
    "    [\n",
    "        (\"One Hot Encoder\", OneHotEncoder(handle_unknown=\"error\"), [\"Country\", \"Item\"]),\n",
    "        (\n",
    "            \"Standard Scaler\",\n",
    "            StandardScaler(),\n",
    "            [\n",
    "                \"Average Rainfall (mm/year)\",\n",
    "                \"Pesticides (Tonnes)\",\n",
    "                \"Average Temperature\",\n",
    "            ],\n",
    "        ),\n",
    "    ]\n",
    ")\n"
   ]
  },
  {
   "cell_type": "code",
   "execution_count": 7,
   "metadata": {},
   "outputs": [],
   "source": [
    "final_pipeline = Pipeline(steps=[\n",
    "    ('Country Modifier', Country_modifier()),\n",
    "    ('One hot Encode and Standardize', ct),\n",
    "    ('RF_model', RandomForestRegressor(max_depth=10, n_estimators=200, random_state=42))\n",
    "\n",
    "])"
   ]
  },
  {
   "cell_type": "code",
   "execution_count": 8,
   "metadata": {},
   "outputs": [
    {
     "name": "stderr",
     "output_type": "stream",
     "text": [
      "C:\\Users\\bilal\\anaconda3\\envs\\mlenv\\lib\\site-packages\\ipykernel_launcher.py:12: SettingWithCopyWarning: \n",
      "A value is trying to be set on a copy of a slice from a DataFrame.\n",
      "Try using .loc[row_indexer,col_indexer] = value instead\n",
      "\n",
      "See the caveats in the documentation: https://pandas.pydata.org/pandas-docs/stable/user_guide/indexing.html#returning-a-view-versus-a-copy\n",
      "  if sys.path[0] == '':\n"
     ]
    },
    {
     "data": {
      "text/plain": [
       "Pipeline(steps=[('Country Modifier', Country_modifier()),\n",
       "                ('One hot Encode and Standardize',\n",
       "                 ColumnTransformer(transformers=[('One Hot Encoder',\n",
       "                                                  OneHotEncoder(),\n",
       "                                                  ['Country', 'Item']),\n",
       "                                                 ('Standard Scaler',\n",
       "                                                  StandardScaler(),\n",
       "                                                  ['Average Rainfall (mm/year)',\n",
       "                                                   'Pesticides (Tonnes)',\n",
       "                                                   'Average Temperature'])])),\n",
       "                ('RF_model',\n",
       "                 RandomForestRegressor(max_depth=10, n_estimators=200,\n",
       "                                       random_state=42))])"
      ]
     },
     "execution_count": 8,
     "metadata": {},
     "output_type": "execute_result"
    }
   ],
   "source": [
    "final_pipeline.fit(X_train, y_train)\n"
   ]
  },
  {
   "cell_type": "code",
   "execution_count": 9,
   "metadata": {},
   "outputs": [],
   "source": [
    "with open ('model_pickle', 'wb') as f:\n",
    "    pickle.dump(final_pipeline,f)"
   ]
  },
  {
   "cell_type": "code",
   "execution_count": 10,
   "metadata": {},
   "outputs": [
    {
     "name": "stderr",
     "output_type": "stream",
     "text": [
      "C:\\Users\\bilal\\anaconda3\\envs\\mlenv\\lib\\site-packages\\ipykernel_launcher.py:12: SettingWithCopyWarning: \n",
      "A value is trying to be set on a copy of a slice from a DataFrame.\n",
      "Try using .loc[row_indexer,col_indexer] = value instead\n",
      "\n",
      "See the caveats in the documentation: https://pandas.pydata.org/pandas-docs/stable/user_guide/indexing.html#returning-a-view-versus-a-copy\n",
      "  if sys.path[0] == '':\n"
     ]
    },
    {
     "data": {
      "text/plain": [
       "0.9070764399555149"
      ]
     },
     "execution_count": 10,
     "metadata": {},
     "output_type": "execute_result"
    }
   ],
   "source": [
    "score = final_pipeline.predict(X_test)\n",
    "r2_score(y_test, score)"
   ]
  },
  {
   "cell_type": "code",
   "execution_count": null,
   "metadata": {},
   "outputs": [],
   "source": []
  }
 ],
 "metadata": {
  "interpreter": {
   "hash": "b380258cf79b42527fed6311333d79c1289944b72972a459157fc33b01639dbd"
  },
  "kernelspec": {
   "display_name": "Python 3 (ipykernel)",
   "language": "python",
   "name": "python3"
  },
  "language_info": {
   "codemirror_mode": {
    "name": "ipython",
    "version": 3
   },
   "file_extension": ".py",
   "mimetype": "text/x-python",
   "name": "python",
   "nbconvert_exporter": "python",
   "pygments_lexer": "ipython3",
   "version": "3.7.11"
  }
 },
 "nbformat": 4,
 "nbformat_minor": 2
}
