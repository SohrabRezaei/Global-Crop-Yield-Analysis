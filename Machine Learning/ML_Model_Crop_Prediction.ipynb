{
 "cells": [
  {
   "cell_type": "markdown",
   "id": "686e3bfb",
   "metadata": {},
   "source": [
    "# Machine Learning Model"
   ]
  },
  {
   "cell_type": "code",
   "execution_count": 409,
   "id": "63f285a8",
   "metadata": {},
   "outputs": [],
   "source": [
    "import pandas as pd\n",
    "from sklearn.preprocessing import OneHotEncoder\n",
    "from sklearn.preprocessing import StandardScaler\n",
    "from sklearn.model_selection import train_test_split\n",
    "from sklearn.linear_model import LinearRegression\n",
    "from sklearn.metrics import mean_squared_error, r2_score\n",
    "from sklearn.ensemble import RandomForestRegressor, GradientBoostingRegressor\n",
    "from sklearn.neural_network import MLPRegressor\n",
    "from sklearn.tree import DecisionTreeRegressor\n",
    "from sklearn import linear_model\n",
    "from sklearn.model_selection import GridSearchCV\n",
    "import numpy as np\n",
    "import seaborn as sn\n",
    "import matplotlib.pyplot as plt"
   ]
  },
  {
   "cell_type": "code",
   "execution_count": 372,
   "id": "b8242063",
   "metadata": {},
   "outputs": [],
   "source": [
    "final_data = pd.read_csv(\"join.csv\")"
   ]
  },
  {
   "cell_type": "code",
   "execution_count": 373,
   "id": "16e45e79",
   "metadata": {},
   "outputs": [
    {
     "data": {
      "text/html": [
       "<div>\n",
       "<style scoped>\n",
       "    .dataframe tbody tr th:only-of-type {\n",
       "        vertical-align: middle;\n",
       "    }\n",
       "\n",
       "    .dataframe tbody tr th {\n",
       "        vertical-align: top;\n",
       "    }\n",
       "\n",
       "    .dataframe thead th {\n",
       "        text-align: right;\n",
       "    }\n",
       "</style>\n",
       "<table border=\"1\" class=\"dataframe\">\n",
       "  <thead>\n",
       "    <tr style=\"text-align: right;\">\n",
       "      <th></th>\n",
       "      <th>Country</th>\n",
       "      <th>Year</th>\n",
       "      <th>Item</th>\n",
       "      <th>Average Rainfall (mm/year)</th>\n",
       "      <th>Pesticides (Tonnes)</th>\n",
       "      <th>Average Temperature</th>\n",
       "      <th>Yield (hg/ha)</th>\n",
       "    </tr>\n",
       "  </thead>\n",
       "  <tbody>\n",
       "    <tr>\n",
       "      <th>0</th>\n",
       "      <td>Albania</td>\n",
       "      <td>1990</td>\n",
       "      <td>Maize</td>\n",
       "      <td>1485</td>\n",
       "      <td>121.0</td>\n",
       "      <td>16.37</td>\n",
       "      <td>36613</td>\n",
       "    </tr>\n",
       "    <tr>\n",
       "      <th>1</th>\n",
       "      <td>Albania</td>\n",
       "      <td>1990</td>\n",
       "      <td>Potatoes</td>\n",
       "      <td>1485</td>\n",
       "      <td>121.0</td>\n",
       "      <td>16.37</td>\n",
       "      <td>66667</td>\n",
       "    </tr>\n",
       "    <tr>\n",
       "      <th>2</th>\n",
       "      <td>Albania</td>\n",
       "      <td>1990</td>\n",
       "      <td>Rice, paddy</td>\n",
       "      <td>1485</td>\n",
       "      <td>121.0</td>\n",
       "      <td>16.37</td>\n",
       "      <td>23333</td>\n",
       "    </tr>\n",
       "    <tr>\n",
       "      <th>3</th>\n",
       "      <td>Albania</td>\n",
       "      <td>1990</td>\n",
       "      <td>Sorghum</td>\n",
       "      <td>1485</td>\n",
       "      <td>121.0</td>\n",
       "      <td>16.37</td>\n",
       "      <td>12500</td>\n",
       "    </tr>\n",
       "    <tr>\n",
       "      <th>4</th>\n",
       "      <td>Albania</td>\n",
       "      <td>1990</td>\n",
       "      <td>Soybeans</td>\n",
       "      <td>1485</td>\n",
       "      <td>121.0</td>\n",
       "      <td>16.37</td>\n",
       "      <td>7000</td>\n",
       "    </tr>\n",
       "  </tbody>\n",
       "</table>\n",
       "</div>"
      ],
      "text/plain": [
       "   Country  Year         Item  Average Rainfall (mm/year)  \\\n",
       "0  Albania  1990        Maize                        1485   \n",
       "1  Albania  1990     Potatoes                        1485   \n",
       "2  Albania  1990  Rice, paddy                        1485   \n",
       "3  Albania  1990      Sorghum                        1485   \n",
       "4  Albania  1990     Soybeans                        1485   \n",
       "\n",
       "   Pesticides (Tonnes)  Average Temperature  Yield (hg/ha)  \n",
       "0                121.0                16.37          36613  \n",
       "1                121.0                16.37          66667  \n",
       "2                121.0                16.37          23333  \n",
       "3                121.0                16.37          12500  \n",
       "4                121.0                16.37           7000  "
      ]
     },
     "execution_count": 373,
     "metadata": {},
     "output_type": "execute_result"
    }
   ],
   "source": [
    "final_data.head()"
   ]
  },
  {
   "cell_type": "markdown",
   "id": "28d8e88e",
   "metadata": {},
   "source": [
    "#### We are going to one Hot encode our country column. And for that, we are going to do a count of all the observations by country names. For countries who do not fall in top 15, we are going to change their name to \"Other\". We are doing this as we do not want too many variables in our model as this will overfit our model."
   ]
  },
  {
   "cell_type": "code",
   "execution_count": 374,
   "id": "f41be210",
   "metadata": {},
   "outputs": [
    {
     "data": {
      "text/plain": [
       "{'Tanzania': 230,\n",
       " 'Cameroon': 230,\n",
       " 'Kenya': 230,\n",
       " 'Venezuela': 230,\n",
       " 'Bolivia': 207,\n",
       " 'Peru': 207,\n",
       " 'Ecuador': 207,\n",
       " 'Mali': 207,\n",
       " 'Rwanda': 207,\n",
       " 'Burundi': 207,\n",
       " 'Brazil': 207,\n",
       " 'Colombia': 207,\n",
       " 'Uganda': 207,\n",
       " 'Guatemala': 204,\n",
       " 'Honduras': 204,\n",
       " 'Haiti': 184,\n",
       " 'Sri Lanka': 184,\n",
       " 'El Salvador': 184,\n",
       " 'India': 184,\n",
       " 'Madagascar': 184,\n",
       " 'Mexico': 184,\n",
       " 'Dominican Republic': 184,\n",
       " 'Zimbabwe': 184,\n",
       " 'Argentina': 184,\n",
       " 'Burkina Faso': 184,\n",
       " 'Zambia': 184,\n",
       " 'Nicaragua': 183,\n",
       " 'Malawi': 171,\n",
       " 'Guinea': 171,\n",
       " 'Angola': 164,\n",
       " 'Morocco': 161,\n",
       " 'Mozambique': 161,\n",
       " 'Uruguay': 161,\n",
       " 'Mauritania': 161,\n",
       " 'Papua New Guinea': 161,\n",
       " 'Australia': 161,\n",
       " 'Japan': 161,\n",
       " 'Jamaica': 161,\n",
       " 'South Africa': 161,\n",
       " 'Italy': 161,\n",
       " 'Niger': 161,\n",
       " 'Thailand': 161,\n",
       " 'Spain': 161,\n",
       " 'Pakistan': 161,\n",
       " 'Central African Republic': 161,\n",
       " 'Greece': 161,\n",
       " 'Egypt': 161,\n",
       " 'Ghana': 155,\n",
       " 'Bangladesh': 147,\n",
       " 'Vietnam': 138,\n",
       " 'Laos': 138,\n",
       " 'Romania': 138,\n",
       " 'France': 138,\n",
       " 'Senegal': 138,\n",
       " 'Bulgaria': 138,\n",
       " 'Portugal': 138,\n",
       " 'Suriname': 138,\n",
       " 'Iraq': 138,\n",
       " 'Indonesia': 138,\n",
       " 'Hungary': 138,\n",
       " 'Ukraine': 126,\n",
       " 'Russia': 126,\n",
       " 'Kazakhstan': 126,\n",
       " 'Turkey': 125,\n",
       " 'Tajikistan': 125,\n",
       " 'Guyana': 124,\n",
       " 'Syria': 122,\n",
       " 'Azerbaijan': 116,\n",
       " 'Nepal': 115,\n",
       " 'Iran': 115,\n",
       " 'Guinea-Bissau': 115,\n",
       " 'Chile': 115,\n",
       " 'Algeria': 114,\n",
       " 'Moldova': 105,\n",
       " 'Croatia': 105,\n",
       " 'Mauritius': 101,\n",
       " 'Slovakia': 100,\n",
       " 'Albania': 99,\n",
       " 'Austria': 96,\n",
       " 'Malaysia': 93,\n",
       " 'Lebanon': 92,\n",
       " 'Switzerland': 92,\n",
       " 'New Zealand': 92,\n",
       " 'Saudi Arabia': 92,\n",
       " 'Lesotho': 92,\n",
       " 'Canada': 92,\n",
       " 'Germany': 90,\n",
       " 'Slovenia': 84,\n",
       " 'Namibia': 82,\n",
       " 'Czechia': 80,\n",
       " 'Eritrea': 80,\n",
       " 'Poland': 78,\n",
       " 'Tunisia': 69,\n",
       " 'Libya': 69,\n",
       " 'Qatar': 69,\n",
       " 'Netherlands': 69,\n",
       " 'Bahamas': 67,\n",
       " 'Botswana': 64,\n",
       " 'Belarus': 63,\n",
       " 'Lithuania': 63,\n",
       " 'Armenia': 63,\n",
       " 'Denmark': 50,\n",
       " 'Norway': 46,\n",
       " 'Ireland': 46,\n",
       " 'Sweden': 46,\n",
       " 'Finland': 46,\n",
       " 'United Kingdom': 46,\n",
       " 'Latvia': 42,\n",
       " 'Estonia': 42,\n",
       " 'Belgium': 39,\n",
       " 'Bahrain': 29,\n",
       " 'Montenegro': 24,\n",
       " 'Sudan': 14}"
      ]
     },
     "execution_count": 374,
     "metadata": {},
     "output_type": "execute_result"
    }
   ],
   "source": [
    "country_count = dict(final_data.Country.value_counts())\n",
    "country_count"
   ]
  },
  {
   "cell_type": "code",
   "execution_count": 375,
   "id": "a71f0cb8",
   "metadata": {},
   "outputs": [],
   "source": [
    "def country_modifier(x, val_counts):\n",
    "    \"\"\"Modify a Country.\"\"\"\n",
    "    if val_counts[x] >= 200:\n",
    "        return x\n",
    "    else:\n",
    "        return \"Other\"\n",
    "\n",
    "final_data[\"Country_New\"] = final_data[\"Country\"].apply(\n",
    "    country_modifier, val_counts=country_count\n",
    ")"
   ]
  },
  {
   "cell_type": "code",
   "execution_count": 376,
   "id": "b233af6b",
   "metadata": {},
   "outputs": [],
   "source": [
    "features_data = final_data[\n",
    "    [\n",
    "        \"Country_New\",\n",
    "        \"Average Rainfall (mm/year)\",\n",
    "        \"Pesticides (Tonnes)\",\n",
    "        \"Average Temperature\",\n",
    "        \"Item\",\n",
    "    ]\n",
    "]\n",
    "response = final_data[\"Yield (hg/ha)\"]"
   ]
  },
  {
   "cell_type": "code",
   "execution_count": 408,
   "id": "57855cec",
   "metadata": {},
   "outputs": [
    {
     "data": {
      "text/html": [
       "<div>\n",
       "<style scoped>\n",
       "    .dataframe tbody tr th:only-of-type {\n",
       "        vertical-align: middle;\n",
       "    }\n",
       "\n",
       "    .dataframe tbody tr th {\n",
       "        vertical-align: top;\n",
       "    }\n",
       "\n",
       "    .dataframe thead th {\n",
       "        text-align: right;\n",
       "    }\n",
       "</style>\n",
       "<table border=\"1\" class=\"dataframe\">\n",
       "  <thead>\n",
       "    <tr style=\"text-align: right;\">\n",
       "      <th></th>\n",
       "      <th>Average Rainfall (mm/year)</th>\n",
       "      <th>Pesticides (Tonnes)</th>\n",
       "      <th>Average Temperature</th>\n",
       "    </tr>\n",
       "  </thead>\n",
       "  <tbody>\n",
       "    <tr>\n",
       "      <th>Average Rainfall (mm/year)</th>\n",
       "      <td>1.000000</td>\n",
       "      <td>0.072169</td>\n",
       "      <td>0.379997</td>\n",
       "    </tr>\n",
       "    <tr>\n",
       "      <th>Pesticides (Tonnes)</th>\n",
       "      <td>0.072169</td>\n",
       "      <td>1.000000</td>\n",
       "      <td>-0.105651</td>\n",
       "    </tr>\n",
       "    <tr>\n",
       "      <th>Average Temperature</th>\n",
       "      <td>0.379997</td>\n",
       "      <td>-0.105651</td>\n",
       "      <td>1.000000</td>\n",
       "    </tr>\n",
       "  </tbody>\n",
       "</table>\n",
       "</div>"
      ],
      "text/plain": [
       "                            Average Rainfall (mm/year)  Pesticides (Tonnes)  \\\n",
       "Average Rainfall (mm/year)                    1.000000             0.072169   \n",
       "Pesticides (Tonnes)                           0.072169             1.000000   \n",
       "Average Temperature                           0.379997            -0.105651   \n",
       "\n",
       "                            Average Temperature  \n",
       "Average Rainfall (mm/year)             0.379997  \n",
       "Pesticides (Tonnes)                   -0.105651  \n",
       "Average Temperature                    1.000000  "
      ]
     },
     "execution_count": 408,
     "metadata": {},
     "output_type": "execute_result"
    }
   ],
   "source": [
    "correlation_df = features_data[[ \"Average Rainfall (mm/year)\",\n",
    "        \"Pesticides (Tonnes)\",\n",
    "        \"Average Temperature\",]]\n",
    "\n",
    "CorrMatrix = correlation_df.corr()\n",
    "CorrMatrix"
   ]
  },
  {
   "cell_type": "markdown",
   "id": "d6fce0da",
   "metadata": {},
   "source": [
    "#### From the correlation matrix, we can clearly see that no two independent variables are highly correlated. If any two variables were highly correlated, it would be hard to interpret the results of regression and we would have to eliminate one of the variables. "
   ]
  },
  {
   "cell_type": "code",
   "execution_count": 410,
   "id": "1083b10e",
   "metadata": {},
   "outputs": [
    {
     "data": {
      "image/png": "[encoded data removed]",
      "text/plain": [
       "<Figure size 864x576 with 2 Axes>"
      ]
     },
     "metadata": {
      "needs_background": "light"
     },
     "output_type": "display_data"
    }
   ],
   "source": [
    "sn.heatmap(corrMatrix, annot=True)\n",
    "plt.show()"
   ]
  },
  {
   "cell_type": "markdown",
   "id": "97b814df",
   "metadata": {},
   "source": [
    "#### At the very start, we are splitting our model into trainind data and testing data. The 20% test data will be used at the very end when we are sure which machine learning model to use and with what hyperparameters. "
   ]
  },
  {
   "cell_type": "code",
   "execution_count": 377,
   "id": "17b45367",
   "metadata": {},
   "outputs": [],
   "source": [
    "# main test split\n",
    "X_train, X_test, y_train, y_test = train_test_split(\n",
    "    features_data,\n",
    "    response,\n",
    "    test_size=0.2,\n",
    "    random_state=42,\n",
    "    stratify=features_data[[\"Country_New\", \"Item\"]],\n",
    ")"
   ]
  },
  {
   "cell_type": "code",
   "execution_count": 378,
   "id": "4027bd7a",
   "metadata": {},
   "outputs": [],
   "source": [
    "categorical_data = X_train[[\"Country_New\", \"Item\"]]\n",
    "numerical_data = X_train[\n",
    "    [\"Average Rainfall (mm/year)\", \"Pesticides (Tonnes)\", \"Average Temperature\"]\n",
    "]"
   ]
  },
  {
   "cell_type": "markdown",
   "id": "714869ee",
   "metadata": {},
   "source": [
    "####  We have two categorical variables and four numerical variables. Categorical variables will be encoded while the numerical variables will be standardized. We are performing one hot encoidng becasue machine learning algorithms do not take numerical values. And we are standartdizing numerical data because on variables are at a different scale.  "
   ]
  },
  {
   "cell_type": "code",
   "execution_count": 379,
   "id": "14a81d3f",
   "metadata": {},
   "outputs": [],
   "source": [
    "# One hot encoding data\n",
    "ohe = OneHotEncoder(handle_unknown=\"error\")\n",
    "ohe.fit(categorical_data)\n",
    "ohe_data = ohe.transform(categorical_data).toarray()"
   ]
  },
  {
   "cell_type": "code",
   "execution_count": 380,
   "id": "936054a1",
   "metadata": {},
   "outputs": [],
   "source": [
    "#Standarzizing data\n",
    "std = StandardScaler()\n",
    "std.fit(numerical_data)\n",
    "num_data = std.transform(numerical_data)"
   ]
  },
  {
   "cell_type": "code",
   "execution_count": 381,
   "id": "4b211d9b",
   "metadata": {},
   "outputs": [],
   "source": [
    "x_train = np.hstack((num_data, ohe_data))"
   ]
  },
  {
   "cell_type": "markdown",
   "id": "7516b1ed",
   "metadata": {},
   "source": [
    "#### The reamining training data will be further split into training new and validation data. On validation data, we will tune our hyperparamters for all models and see which model gives us the best results. "
   ]
  },
  {
   "cell_type": "code",
   "execution_count": 382,
   "id": "9b75ae62",
   "metadata": {},
   "outputs": [],
   "source": [
    "# validation split\n",
    "X_train_new, X_val, y_train_new, y_val = train_test_split(\n",
    "    x_train, y_train, test_size=0.2, random_state=42\n",
    ")"
   ]
  },
  {
   "cell_type": "markdown",
   "id": "5c7cc502",
   "metadata": {},
   "source": [
    "#### Now we are going to apply six different models and see which models gives us the best r2 score."
   ]
  },
  {
   "cell_type": "code",
   "execution_count": 383,
   "id": "4db5fabb",
   "metadata": {},
   "outputs": [
    {
     "data": {
      "text/plain": [
       "0.5973328519643033"
      ]
     },
     "execution_count": 383,
     "metadata": {},
     "output_type": "execute_result"
    }
   ],
   "source": [
    "LR_model = LinearRegression()\n",
    "LR_model.fit(X_train_new, y_train_new)\n",
    "y_pred = LR_model.predict(X_val)\n",
    "LR_model_r2 = r2_score(y_val, y_pred)\n",
    "LR_model_r2"
   ]
  },
  {
   "cell_type": "code",
   "execution_count": 384,
   "id": "fe1e724b",
   "metadata": {},
   "outputs": [
    {
     "data": {
      "text/plain": [
       "0.9069312844576128"
      ]
     },
     "execution_count": 384,
     "metadata": {},
     "output_type": "execute_result"
    }
   ],
   "source": [
    "RF_model = RandomForestRegressor()\n",
    "RF_model.fit(X_train_new, y_train_new)\n",
    "y_pred = RF_model.predict(X_val)\n",
    "RF_model_r2 = r2_score(y_val, y_pred)\n",
    "RF_model_r2"
   ]
  },
  {
   "cell_type": "code",
   "execution_count": 385,
   "id": "0100641d",
   "metadata": {},
   "outputs": [
    {
     "data": {
      "text/plain": [
       "0.8744194696013924"
      ]
     },
     "execution_count": 385,
     "metadata": {},
     "output_type": "execute_result"
    }
   ],
   "source": [
    "GBM_model = GradientBoostingRegressor(n_estimators=600)\n",
    "GBM_model.fit(X_train_new, y_train_new)\n",
    "y_pred = GBM_model.predict(X_val)\n",
    "GBM_model_r2 = r2_score(y_val, y_pred)\n",
    "GBM_model_r2"
   ]
  },
  {
   "cell_type": "code",
   "execution_count": 386,
   "id": "08f0064b",
   "metadata": {},
   "outputs": [
    {
     "name": "stderr",
     "output_type": "stream",
     "text": [
      "C:\\Users\\bilal\\anaconda3\\envs\\mlenv\\lib\\site-packages\\sklearn\\neural_network\\_multilayer_perceptron.py:617: ConvergenceWarning: Stochastic Optimizer: Maximum iterations (200) reached and the optimization hasn't converged yet.\n",
      "  % self.max_iter, ConvergenceWarning)\n"
     ]
    },
    {
     "data": {
      "text/plain": [
       "-0.21109421884220447"
      ]
     },
     "execution_count": 386,
     "metadata": {},
     "output_type": "execute_result"
    }
   ],
   "source": [
    "MLP_model = MLPRegressor(max_iter=200)\n",
    "MLP_model.fit(X_train_new, y_train_new)\n",
    "y_pred = MLP_model.predict(X_val)\n",
    "MLP_model_r2 = r2_score(y_val, y_pred)\n",
    "MLP_model_r2"
   ]
  },
  {
   "cell_type": "code",
   "execution_count": 387,
   "id": "d962f899",
   "metadata": {},
   "outputs": [
    {
     "data": {
      "text/plain": [
       "0.8131186621880947"
      ]
     },
     "execution_count": 387,
     "metadata": {},
     "output_type": "execute_result"
    }
   ],
   "source": [
    "DTR_model = DecisionTreeRegressor()\n",
    "DTR_model.fit(X_train_new, y_train_new)\n",
    "y_pred = DTR_model.predict(X_val)\n",
    "DTR_model_r2 = r2_score(y_val, y_pred)\n",
    "DTR_model_r2"
   ]
  },
  {
   "cell_type": "code",
   "execution_count": 388,
   "id": "67c60e66",
   "metadata": {},
   "outputs": [
    {
     "data": {
      "text/plain": [
       "0.5973327025565855"
      ]
     },
     "execution_count": 388,
     "metadata": {},
     "output_type": "execute_result"
    }
   ],
   "source": [
    "Lasso_model = linear_model.Lasso(alpha=0.1,max_iter=50000)\n",
    "Lasso_model.fit(X_train_new, y_train_new)\n",
    "y_pred = Lasso_model.predict(X_val)\n",
    "Lasso_model_r2 = r2_score(y_val, y_pred)\n",
    "Lasso_model_r2"
   ]
  },
  {
   "cell_type": "markdown",
   "id": "f5bfac53",
   "metadata": {},
   "source": [
    "#### After using multiple models and adjusting their parameters, we found out that RandomForestRegressor() gave the best result. Now we are going to apply the Grid Search tenchnique in order to find the best possible parameters for our model. We are going to fit this to our training data which we set aside at the very beginning. "
   ]
  },
  {
   "cell_type": "code",
   "execution_count": 389,
   "id": "04f2c02b",
   "metadata": {},
   "outputs": [],
   "source": [
    "# Define the model\n",
    "\n",
    "RF_model = RandomForestRegressor()\n",
    "\n",
    "# Define the grid\n",
    "\n",
    "param_grid = {\n",
    "'n_estimators': [50, 100, 200, 300],\n",
    "'min_samples_leaf': [1, 5, 10],\n",
    "'max_depth': [2, 4, 6, 8, 10],\n",
    "'max_features': ['auto', 'sqrt'],\n",
    "'bootstrap': [True, False]}\n",
    "\n",
    "# Instantiate GridSearchCV\n",
    "\n",
    "model_gridsearch = GridSearchCV(\n",
    "estimator=RF_model,\n",
    "param_grid=param_grid,\n",
    "scoring='r2',\n",
    "n_jobs=-1,\n",
    "cv=2,\n",
    "refit=True,\n",
    "return_train_score=True)"
   ]
  },
  {
   "cell_type": "code",
   "execution_count": 390,
   "id": "1f77b0f0",
   "metadata": {},
   "outputs": [
    {
     "data": {
      "text/plain": [
       "GridSearchCV(cv=2, estimator=RandomForestRegressor(), n_jobs=-1,\n",
       "             param_grid={'bootstrap': [True, False],\n",
       "                         'max_depth': [2, 4, 6, 8, 10],\n",
       "                         'max_features': ['auto', 'sqrt'],\n",
       "                         'min_samples_leaf': [1, 5, 10],\n",
       "                         'n_estimators': [50, 100, 200, 300]},\n",
       "             return_train_score=True, scoring='r2')"
      ]
     },
     "execution_count": 390,
     "metadata": {},
     "output_type": "execute_result"
    }
   ],
   "source": [
    "model_gridsearch.fit(x_train, y_train)"
   ]
  },
  {
   "cell_type": "code",
   "execution_count": 391,
   "id": "1101a88e",
   "metadata": {},
   "outputs": [
    {
     "name": "stdout",
     "output_type": "stream",
     "text": [
      "RandomForestRegressor(max_depth=10, n_estimators=300)\n"
     ]
    }
   ],
   "source": [
    "print(model_gridsearch.best_estimator_)\n"
   ]
  },
  {
   "cell_type": "markdown",
   "id": "027d9c9a",
   "metadata": {},
   "source": [
    "#### So from the grid search technique, we find out that in the RandomForestRegressor model, max_depth =10 and n_estimators=300 will give us the best possible model. It did not return other parameters which we passed in our param_grid dictionary as those parameters will not significantly affect our result. "
   ]
  },
  {
   "cell_type": "code",
   "execution_count": 401,
   "id": "34362c32",
   "metadata": {},
   "outputs": [
    {
     "data": {
      "text/plain": [
       "RandomForestRegressor(max_depth=10, n_estimators=300)"
      ]
     },
     "execution_count": 401,
     "metadata": {},
     "output_type": "execute_result"
    }
   ],
   "source": [
    "final_RF_model = RandomForestRegressor(max_depth=10, n_estimators=300)\n",
    "final_RF_model.fit(x_train, y_train)"
   ]
  },
  {
   "cell_type": "code",
   "execution_count": 402,
   "id": "e8f8ae3b",
   "metadata": {},
   "outputs": [],
   "source": [
    "categorical_test_data = X_test[[\"Country_New\", \"Item\"]]\n",
    "numerical_test_data = X_test[\n",
    "    [\"Average Rainfall (mm/year)\", \"Pesticides (Tonnes)\", \"Average Temperature\"]\n",
    "]"
   ]
  },
  {
   "cell_type": "markdown",
   "id": "f91f35ca",
   "metadata": {},
   "source": [
    "#### Finally, we our going to incorporate the test data we set aside at the very start. Test data will also be one hot encoded and standardized just like we did with the training data. "
   ]
  },
  {
   "cell_type": "code",
   "execution_count": 403,
   "id": "7b3ab41f",
   "metadata": {},
   "outputs": [],
   "source": [
    "# One hot encoder\n",
    "ohe = OneHotEncoder(handle_unknown=\"error\")\n",
    "ohe.fit(categorical_data)\n",
    "ohe_test_data = ohe.transform(categorical_test_data).toarray()\n",
    "\n",
    "#Standarzizing data\n",
    "std = StandardScaler()\n",
    "std.fit(numerical_data)\n",
    "num_test_data = std.transform(numerical_test_data)"
   ]
  },
  {
   "cell_type": "code",
   "execution_count": 404,
   "id": "eb761c9a",
   "metadata": {},
   "outputs": [],
   "source": [
    "test = np.hstack((num_test_data, ohe_test_data))"
   ]
  },
  {
   "cell_type": "code",
   "execution_count": 414,
   "id": "755648de",
   "metadata": {},
   "outputs": [],
   "source": [
    "y_prediction = final_RF_model.predict(test)"
   ]
  },
  {
   "cell_type": "markdown",
   "id": "f3bb1937",
   "metadata": {},
   "source": [
    "#### The r2 score which we get from using y_test and test_prediction iis very similar to the score we got previously. "
   ]
  },
  {
   "cell_type": "code",
   "execution_count": 415,
   "id": "82804224",
   "metadata": {},
   "outputs": [
    {
     "name": "stdout",
     "output_type": "stream",
     "text": [
      "0.9069089949993407\n"
     ]
    }
   ],
   "source": [
    "print(r2_score(y_test,y_prediction))"
   ]
  },
  {
   "cell_type": "code",
   "execution_count": null,
   "id": "d916bdfa",
   "metadata": {},
   "outputs": [],
   "source": []
  }
 ],
 "metadata": {
  "kernelspec": {
   "display_name": "mlenv",
   "language": "python",
   "name": "mlenv"
  },
  "language_info": {
   "codemirror_mode": {
    "name": "ipython",
    "version": 3
   },
   "file_extension": ".py",
   "mimetype": "text/x-python",
   "name": "python",
   "nbconvert_exporter": "python",
   "pygments_lexer": "ipython3",
   "version": "3.7.11"
  }
 },
 "nbformat": 4,
 "nbformat_minor": 5
}
